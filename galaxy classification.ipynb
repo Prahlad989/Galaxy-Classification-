{
 "cells": [
  {
   "cell_type": "code",
   "execution_count": 2,
   "metadata": {},
   "outputs": [],
   "source": [
    "import cv2\n",
    "import glob\n"
   ]
  },
  {
   "cell_type": "code",
   "execution_count": null,
   "metadata": {},
   "outputs": [],
   "source": [
    "Images El=[cv2.imread(file) for file in glob.glob(“C:/Users/abc/Downloads/galaxy-image-classifier-tensorflow-master/xy_photos/elliptical/*..jpg”)]\n",
    "Images Sp=[cv2.imread(file) for file in glob.glob(“C:/Users/abc/Downloads/galaxy-image-classifier-tensorflow-master/xy_photos/spiral/*.jpg”)]\n",
    "Images El=[cv2.imread(file) for file in glob.glob(“C:/Users/abc/Downloads/galaxy-image-classifier-tensorflow-master/xy_photos/elliptical/*.jpg”)]\n"
   ]
  },
  {
   "cell_type": "code",
   "execution_count": 3,
   "metadata": {},
   "outputs": [
    {
     "ename": "NameError",
     "evalue": "name 'ime' is not defined",
     "output_type": "error",
     "traceback": [
      "\u001b[1;31m---------------------------------------------------------------------------\u001b[0m",
      "\u001b[1;31mNameError\u001b[0m                                 Traceback (most recent call last)",
      "\u001b[1;32m<ipython-input-3-a1512962c664>\u001b[0m in \u001b[0;36m<module>\u001b[1;34m\u001b[0m\n\u001b[1;32m----> 1\u001b[1;33m \u001b[0mi\u001b[0m\u001b[1;33m=\u001b[0m\u001b[0mime\u001b[0m\u001b[1;33m[\u001b[0m\u001b[1;36m0\u001b[0m\u001b[1;33m]\u001b[0m\u001b[1;33m.\u001b[0m\u001b[0mflatten\u001b[0m\u001b[1;33m(\u001b[0m\u001b[1;33m)\u001b[0m\u001b[1;33m\u001b[0m\u001b[1;33m\u001b[0m\u001b[0m\n\u001b[0m\u001b[0;32m      2\u001b[0m \u001b[1;32mfor\u001b[0m \u001b[0mI\u001b[0m \u001b[1;32min\u001b[0m \u001b[0mime\u001b[0m \u001b[1;33m:\u001b[0m\u001b[1;33m\u001b[0m\u001b[1;33m\u001b[0m\u001b[0m\n\u001b[0;32m      3\u001b[0m       \u001b[0mell\u001b[0m\u001b[1;33m.\u001b[0m\u001b[0mappent\u001b[0m\u001b[1;33m(\u001b[0m\u001b[0mi\u001b[0m\u001b[1;33m.\u001b[0m\u001b[0mflatten\u001b[0m\u001b[1;33m(\u001b[0m\u001b[1;33m)\u001b[0m\u001b[1;33m)\u001b[0m\u001b[1;33m\u001b[0m\u001b[1;33m\u001b[0m\u001b[0m\n",
      "\u001b[1;31mNameError\u001b[0m: name 'ime' is not defined"
     ]
    }
   ],
   "source": [
    "i=ime[0].flatten()\n",
    "for I in ime :\n",
    "      ell.appent(i.flatten())\n"
   ]
  },
  {
   "cell_type": "code",
   "execution_count": null,
   "metadata": {},
   "outputs": [],
   "source": [
    "import numpy as np\n",
    "import keras\n",
    "import sklearn.model_selection import train_test_split\n",
    "from keras.models import Sequential\n",
    "from keras.utils import np_utils\n",
    "from keras.preprocessing.image import ImageDataGenerator , load_img, img_to_array\n",
    "from keras.layers import Dens,Activation,Flatten,Dropout,BatchNormalization\n",
    "from keras.layers import ConV2D,MaxPooling2D\n",
    "from keras.datasets import cifar10\n",
    "from keras import regulizers,optimizers\n",
    "import os\n"
   ]
  },
  {
   "cell_type": "code",
   "execution_count": null,
   "metadata": {},
   "outputs": [],
   "source": [
    "x=np.ndarray(shape=(519,256,256,3), dtype=float, order=’F’)\n",
    "y=np.ndarray(shape=(519,1), dtype=float, order=’F’)\n",
    "classes=0\n",
    "count=0\n"
   ]
  },
  {
   "cell_type": "code",
   "execution_count": null,
   "metadata": {},
   "outputs": [],
   "source": []
  },
  {
   "cell_type": "code",
   "execution_count": null,
   "metadata": {},
   "outputs": [],
   "source": [
    "path=”../input/galaxyimageclassifier/galaxy-image-classifier-tensorflow-master/ galaxy-image-classifier-tensorflow-master”\n",
    "for I in os.listdr(path):\n",
    "flag=0\n",
    "c=0\n",
    "for j in os.listdr(path+1)\n",
    "\timg=load_img(path+1+’/ ’+j, target_size= (256,256,3))\n",
    "\tx=img_to_array(img)\n",
    "\tX[count]=x\n",
    "\tY[count]=classes\n",
    "    \tcount += 1\n",
    "\tclasses += 1\n",
    "\n",
    "\n"
   ]
  },
  {
   "cell_type": "code",
   "execution_count": null,
   "metadata": {},
   "outputs": [],
   "source": [
    "X_train, X_test, y_train, y_test = train_test_split(X, y, test_size=0.25, random_state=33)"
   ]
  },
  {
   "cell_type": "code",
   "execution_count": null,
   "metadata": {},
   "outputs": [],
   "source": [
    "\n",
    "print(X_train.shape, X_test.shape)\n",
    "print(y_train.shape, y_test.shape)"
   ]
  },
  {
   "cell_type": "code",
   "execution_count": null,
   "metadata": {},
   "outputs": [],
   "source": [
    "num_classes = 2\n",
    "y_train = np_utils.to_categorical(y_train,num_classes)\n",
    "y_test = np_utils.to_categorical(y_test,num_classes)"
   ]
  },
  {
   "cell_type": "code",
   "execution_count": null,
   "metadata": {},
   "outputs": [],
   "source": [
    "\n",
    "datagen = ImageDataGenerator(\n",
    "\tfeaturewise_center=False,\n",
    "\tsamplewise_center=False,\n",
    "\tfeaturewise_std_normalization=False,\n",
    "\tsamplewise_std_normalization=False,\n",
    "\tzca_whitening=False,\n",
    "\trotation_range=15,\n",
    "\twidth_shift_range=0.1,\n",
    "\theight-shift_range=0.1,\n",
    "\thorizontal_flip=True,\n",
    "\tvertical_flip=False"
   ]
  },
  {
   "cell_type": "code",
   "execution_count": null,
   "metadata": {},
   "outputs": [],
   "source": [
    "baseMapNum = 32\n",
    "weight_decay = 1e-4\n",
    "model = Sequential()\n",
    "model.add(Conv2D(baseMapNum,  (3,3), padding=’same’, kernel_regularizer=regularizers.l2(weight_decay), input_shape=X_tra\n",
    "model.add(Activation(‘relu’))\n",
    "model.add(Conv2D(baseMapNum,  (3,3), padding=’same’, kernel_regularizer=regularizers.l2(weight_decay)))\n",
    "model.add(Activation(‘relu’))\n",
    "model.add(MaxPooling2D(pool_size=(2,2)))\n",
    "model.add(Dropout(0.2))\n",
    "\n",
    "model.add(Conv2D(2*baseMapNum,  (3,3), padding=’same’, kernel_regularizer=regularizers.l2(weight_decay)))\n",
    "model.add(Activation(‘relu’))\n",
    "model.add(Conv2D(2*baseMapNum,  (3,3), padding=’same’, kernel_regularizer=regularizers.l2(weight_decay)))\n",
    "model.add(Activation(‘relu’))\n",
    "model.add(MaxPooling2D(pool_size=(2,2)))\n",
    "model.add(Dropout(0.3))\n",
    "\n",
    "model.add(Conv2D(4*baseMapNum,  (3,3), padding=’same’, kernel_regularizer=regularizers.l2(weight_decay), input_shape=X_tra\n",
    "model.add(Activation(‘relu’))\n",
    "model.add(Conv2D(4*baseMapNum,  (3,3), padding=’same’, kernel_regularizer=regularizers.l2(weight_decay)))\n",
    "model.add(Activation(‘relu’))\n",
    "model.add(MaxPooling2D(pool_size=(2,2)))\n",
    "model.add(Dropout(0.3))"
   ]
  },
  {
   "cell_type": "code",
   "execution_count": null,
   "metadata": {},
   "outputs": [],
   "source": [
    "batch_size = 8\n",
    "epochs=25\n",
    "opt_rms =keras.optimizers.rmsprop(lr=0.002,decay=1e-6)\n",
    "model.compile(loss=’ategorical_crossentropy’,\n",
    "\toptimizer=opt_rms,\n",
    "\tmetrics=[‘accuracy’])\n",
    "model.fit_generator(datagen.flow(X_train, y_train, batch_size=batch_size),steps_per_epoch=X_train.shape[0] \n",
    "\n",
    "opt_rms =keras.optimizers.rmsprop(lr=0.0005,decay=1e-6)\n",
    "model.compile(loss=’ategorical_crossentropy’,\n",
    "\toptimizer=opt_rms,\n",
    "\tmetrics=[‘accuracy’])\n",
    "model.fit_generator(datagen.flow(X_train, y_train, batch_size=batch_size),steps_per_epoch=X_train.shape[0] \n",
    "\n",
    "opt_rms =keras.optimizers.rmsprop(lr=0.002,decay=1e-6)\n",
    "model.compile(loss=’ategorical_crossentropy’,\n",
    "\toptimizer=opt_rms,\n",
    "\tmetrics=[‘accuracy’])\n",
    "model.fit_generator(datagen.flow(X_train, y_train, batch_size=batch_size),steps_per_epoch=X_train.shape[0] "
   ]
  },
  {
   "cell_type": "code",
   "execution_count": null,
   "metadata": {},
   "outputs": [],
   "source": [
    "scores= model.evaluate(X_test , y_test, batch_size=120, verbose=1)\n",
    "print(‘\\nTest result : %.3f loss : %.3f’ %(scores[1]*100,scores[0]))"
   ]
  },
  {
   "cell_type": "code",
   "execution_count": null,
   "metadata": {},
   "outputs": [],
   "source": [
    "TESTING\n",
    "\n",
    "X_train,X_test,y_train,y_test = train_test_split(X,y,test_size=0.25,random_state=33)"
   ]
  },
  {
   "cell_type": "code",
   "execution_count": null,
   "metadata": {},
   "outputs": [],
   "source": [
    "Print(X_train.shape,X_test.shape)\n",
    "Print(y_train.shape,y_test.shape)"
   ]
  },
  {
   "cell_type": "code",
   "execution_count": null,
   "metadata": {},
   "outputs": [],
   "source": [
    "Num_classes =2\n",
    "y_train= np_utils.to_categorical(y_train,num_classes)\n",
    "y_train= np_utils.to_categorical(y_test,num_classes"
   ]
  }
 ],
 "metadata": {
  "kernelspec": {
   "display_name": "Python 3",
   "language": "python",
   "name": "python3"
  },
  "language_info": {
   "codemirror_mode": {
    "name": "ipython",
    "version": 3
   },
   "file_extension": ".py",
   "mimetype": "text/x-python",
   "name": "python",
   "nbconvert_exporter": "python",
   "pygments_lexer": "ipython3",
   "version": "3.8.5"
  }
 },
 "nbformat": 4,
 "nbformat_minor": 4
}
